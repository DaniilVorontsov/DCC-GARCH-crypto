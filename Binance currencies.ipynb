{
 "cells": [
  {
   "cell_type": "markdown",
   "id": "a0f3b29f",
   "metadata": {},
   "source": [
    "### Importing libraries"
   ]
  },
  {
   "cell_type": "code",
   "execution_count": 1,
   "id": "2e52240d",
   "metadata": {},
   "outputs": [],
   "source": [
    "from binance import Client\n",
    "from datetime import datetime\n",
    "import time\n",
    "import pandas as pd\n",
    "import numpy as np\n",
    "import matplotlib.pyplot as plt"
   ]
  },
  {
   "cell_type": "code",
   "execution_count": 2,
   "id": "7f1d9bb4",
   "metadata": {},
   "outputs": [
    {
     "name": "stdout",
     "output_type": "stream",
     "text": [
      "2023-08-31 16:54:38\n"
     ]
    }
   ],
   "source": [
    "from binance.spot import Spot\n",
    "\n",
    "client = Spot()\n",
    "serverTime=client.time()['serverTime']\n",
    "# Get server timestamp\n",
    "print(datetime.utcfromtimestamp(serverTime/1000).strftime('%Y-%m-%d %H:%M:%S'))"
   ]
  },
  {
   "cell_type": "markdown",
   "id": "82b26405",
   "metadata": {},
   "source": [
    "### Binance API"
   ]
  },
  {
   "cell_type": "code",
   "execution_count": 3,
   "id": "0d2bc75a",
   "metadata": {},
   "outputs": [],
   "source": [
    "binance_api=\n",
    "binance_secret=\n",
    "\n",
    "client=Client(api_key=binance_api,api_secret=binance_secret)"
   ]
  },
  {
   "cell_type": "code",
   "execution_count": null,
   "id": "45947228",
   "metadata": {},
   "outputs": [],
   "source": []
  },
  {
   "cell_type": "code",
   "execution_count": 6,
   "id": "2127d037",
   "metadata": {
    "scrolled": false
   },
   "outputs": [
    {
     "data": {
      "text/html": [
       "<div>\n",
       "<style scoped>\n",
       "    .dataframe tbody tr th:only-of-type {\n",
       "        vertical-align: middle;\n",
       "    }\n",
       "\n",
       "    .dataframe tbody tr th {\n",
       "        vertical-align: top;\n",
       "    }\n",
       "\n",
       "    .dataframe thead th {\n",
       "        text-align: right;\n",
       "    }\n",
       "</style>\n",
       "<table border=\"1\" class=\"dataframe\">\n",
       "  <thead>\n",
       "    <tr style=\"text-align: right;\">\n",
       "      <th></th>\n",
       "      <th>a</th>\n",
       "      <th>p</th>\n",
       "      <th>q</th>\n",
       "      <th>f</th>\n",
       "      <th>l</th>\n",
       "      <th>T</th>\n",
       "      <th>m</th>\n",
       "      <th>M</th>\n",
       "    </tr>\n",
       "  </thead>\n",
       "  <tbody>\n",
       "    <tr>\n",
       "      <th>0</th>\n",
       "      <td>55802169</td>\n",
       "      <td>6332.04000000</td>\n",
       "      <td>0.00565800</td>\n",
       "      <td>62974326</td>\n",
       "      <td>62974326</td>\n",
       "      <td>1534130155935</td>\n",
       "      <td>True</td>\n",
       "      <td>True</td>\n",
       "    </tr>\n",
       "    <tr>\n",
       "      <th>1</th>\n",
       "      <td>55802170</td>\n",
       "      <td>6332.09000000</td>\n",
       "      <td>0.03334200</td>\n",
       "      <td>62974327</td>\n",
       "      <td>62974327</td>\n",
       "      <td>1534130160045</td>\n",
       "      <td>True</td>\n",
       "      <td>True</td>\n",
       "    </tr>\n",
       "    <tr>\n",
       "      <th>2</th>\n",
       "      <td>55802171</td>\n",
       "      <td>6332.10000000</td>\n",
       "      <td>0.01620500</td>\n",
       "      <td>62974328</td>\n",
       "      <td>62974328</td>\n",
       "      <td>1534130161772</td>\n",
       "      <td>True</td>\n",
       "      <td>True</td>\n",
       "    </tr>\n",
       "    <tr>\n",
       "      <th>3</th>\n",
       "      <td>55802172</td>\n",
       "      <td>6332.01000000</td>\n",
       "      <td>0.02568300</td>\n",
       "      <td>62974329</td>\n",
       "      <td>62974329</td>\n",
       "      <td>1534130163187</td>\n",
       "      <td>True</td>\n",
       "      <td>True</td>\n",
       "    </tr>\n",
       "    <tr>\n",
       "      <th>4</th>\n",
       "      <td>55802173</td>\n",
       "      <td>6332.01000000</td>\n",
       "      <td>0.04098400</td>\n",
       "      <td>62974330</td>\n",
       "      <td>62974330</td>\n",
       "      <td>1534130163532</td>\n",
       "      <td>True</td>\n",
       "      <td>True</td>\n",
       "    </tr>\n",
       "    <tr>\n",
       "      <th>...</th>\n",
       "      <td>...</td>\n",
       "      <td>...</td>\n",
       "      <td>...</td>\n",
       "      <td>...</td>\n",
       "      <td>...</td>\n",
       "      <td>...</td>\n",
       "      <td>...</td>\n",
       "      <td>...</td>\n",
       "    </tr>\n",
       "    <tr>\n",
       "      <th>995</th>\n",
       "      <td>55803164</td>\n",
       "      <td>6345.00000000</td>\n",
       "      <td>0.00720700</td>\n",
       "      <td>62975416</td>\n",
       "      <td>62975416</td>\n",
       "      <td>1534130498018</td>\n",
       "      <td>True</td>\n",
       "      <td>True</td>\n",
       "    </tr>\n",
       "    <tr>\n",
       "      <th>996</th>\n",
       "      <td>55803165</td>\n",
       "      <td>6344.50000000</td>\n",
       "      <td>0.21439100</td>\n",
       "      <td>62975417</td>\n",
       "      <td>62975417</td>\n",
       "      <td>1534130498018</td>\n",
       "      <td>True</td>\n",
       "      <td>True</td>\n",
       "    </tr>\n",
       "    <tr>\n",
       "      <th>997</th>\n",
       "      <td>55803166</td>\n",
       "      <td>6344.51000000</td>\n",
       "      <td>0.32164200</td>\n",
       "      <td>62975418</td>\n",
       "      <td>62975418</td>\n",
       "      <td>1534130498568</td>\n",
       "      <td>True</td>\n",
       "      <td>True</td>\n",
       "    </tr>\n",
       "    <tr>\n",
       "      <th>998</th>\n",
       "      <td>55803167</td>\n",
       "      <td>6346.25000000</td>\n",
       "      <td>2.25610900</td>\n",
       "      <td>62975419</td>\n",
       "      <td>62975419</td>\n",
       "      <td>1534130499040</td>\n",
       "      <td>False</td>\n",
       "      <td>True</td>\n",
       "    </tr>\n",
       "    <tr>\n",
       "      <th>999</th>\n",
       "      <td>55803168</td>\n",
       "      <td>6344.52000000</td>\n",
       "      <td>0.30088200</td>\n",
       "      <td>62975420</td>\n",
       "      <td>62975420</td>\n",
       "      <td>1534130499054</td>\n",
       "      <td>True</td>\n",
       "      <td>True</td>\n",
       "    </tr>\n",
       "  </tbody>\n",
       "</table>\n",
       "<p>1000 rows × 8 columns</p>\n",
       "</div>"
      ],
      "text/plain": [
       "            a              p           q         f         l              T  \\\n",
       "0    55802169  6332.04000000  0.00565800  62974326  62974326  1534130155935   \n",
       "1    55802170  6332.09000000  0.03334200  62974327  62974327  1534130160045   \n",
       "2    55802171  6332.10000000  0.01620500  62974328  62974328  1534130161772   \n",
       "3    55802172  6332.01000000  0.02568300  62974329  62974329  1534130163187   \n",
       "4    55802173  6332.01000000  0.04098400  62974330  62974330  1534130163532   \n",
       "..        ...            ...         ...       ...       ...            ...   \n",
       "995  55803164  6345.00000000  0.00720700  62975416  62975416  1534130498018   \n",
       "996  55803165  6344.50000000  0.21439100  62975417  62975417  1534130498018   \n",
       "997  55803166  6344.51000000  0.32164200  62975418  62975418  1534130498568   \n",
       "998  55803167  6346.25000000  2.25610900  62975419  62975419  1534130499040   \n",
       "999  55803168  6344.52000000  0.30088200  62975420  62975420  1534130499054   \n",
       "\n",
       "         m     M  \n",
       "0     True  True  \n",
       "1     True  True  \n",
       "2     True  True  \n",
       "3     True  True  \n",
       "4     True  True  \n",
       "..     ...   ...  \n",
       "995   True  True  \n",
       "996   True  True  \n",
       "997   True  True  \n",
       "998  False  True  \n",
       "999   True  True  \n",
       "\n",
       "[1000 rows x 8 columns]"
      ]
     },
     "execution_count": 6,
     "metadata": {},
     "output_type": "execute_result"
    }
   ],
   "source": [
    "pd.DataFrame(client.get_aggregate_trades(symbol='BTCUSDT', startTime='1534130155000', endTime='1689515611522',limit=1000) )"
   ]
  },
  {
   "cell_type": "markdown",
   "id": "c4f82294",
   "metadata": {},
   "source": [
    "Tickers to download (largest market cap on 01.02.2023)"
   ]
  },
  {
   "cell_type": "code",
   "execution_count": 7,
   "id": "38b31ffc",
   "metadata": {},
   "outputs": [],
   "source": [
    "tickers=['BTCUSDT','ETHUSDT','BNBUSDT','XRPUSDT','ADAUSDT','DOGEUSDT','MATICUSDT','LTCUSDT']\n",
    "#не стал брать:'DOTUSDT','SHIBUSDT',SOLUSDT так как эти токены очень поздно начали торговаться"
   ]
  },
  {
   "cell_type": "code",
   "execution_count": 8,
   "id": "eb5d2d7b",
   "metadata": {},
   "outputs": [
    {
     "name": "stdout",
     "output_type": "stream",
     "text": [
      "BTCUSDT :\t 2017-08-17\n",
      "ETHUSDT :\t 2017-08-17\n",
      "BNBUSDT :\t 2017-11-06\n",
      "XRPUSDT :\t 2018-05-04\n",
      "ADAUSDT :\t 2018-04-17\n",
      "DOGEUSDT :\t 2019-07-05\n",
      "MATICUSDT :\t 2019-04-26\n",
      "LTCUSDT :\t 2017-12-13\n"
     ]
    }
   ],
   "source": [
    "#первая дата торгов токеном на Binance\n",
    "for i in tickers:\n",
    "    a=client.get_symbol_ticker(symbol=i)\n",
    "    b=client._get_earliest_valid_timestamp(i,'1d')\n",
    "    print(a['symbol'],':\\t',datetime.utcfromtimestamp(b/1000).strftime('%Y-%m-%d'))"
   ]
  },
  {
   "cell_type": "code",
   "execution_count": 9,
   "id": "377fd133",
   "metadata": {},
   "outputs": [
    {
     "name": "stdout",
     "output_type": "stream",
     "text": [
      "BTCUSDT is downloaded, took 39.01 seconds\n",
      "ETHUSDT is downloaded, took 40.26 seconds\n",
      "BNBUSDT is downloaded, took 37.48 seconds\n",
      "XRPUSDT is downloaded, took 32.24 seconds\n",
      "ADAUSDT is downloaded, took 33.25 seconds\n",
      "DOGEUSDT is downloaded, took 31.88 seconds\n",
      "MATICUSDT is downloaded, took 32.75 seconds\n",
      "LTCUSDT is downloaded, took 34.22 seconds\n"
     ]
    }
   ],
   "source": [
    "storage={}\n",
    "for i in tickers:\n",
    "    d1=datetime.now().timestamp()\n",
    "    first_date=client._get_earliest_valid_timestamp(i,'1d')\n",
    "    storage[f'{i}']=client.get_historical_klines(i,'1h',first_date)\n",
    "    d2=datetime.now().timestamp()\n",
    "    print(i,'is downloaded, took',round(d2-d1,2),'seconds')"
   ]
  },
  {
   "cell_type": "markdown",
   "id": "e5508c02",
   "metadata": {},
   "source": [
    "Daily returns"
   ]
  },
  {
   "cell_type": "code",
   "execution_count": 10,
   "id": "6f9304cc",
   "metadata": {},
   "outputs": [],
   "source": [
    "daily_Rt=pd.DataFrame()\n",
    "for key in storage.keys():\n",
    "    arr=storage[key]\n",
    "    df=pd.DataFrame(arr,columns=['Open_time', 'Open', 'High', 'Low', 'Close', 'Volume', 'Close_time',\\\n",
    "                              'Quote_asset_volume', 'Number_of_trades', 'Taker_buy_base_asset_volume',\\\n",
    "                              'Taker_buy_quote_asset_volume', 'Ignore'])\n",
    "    df.drop(columns=['Quote_asset_volume', 'Number_of_trades', 'Taker_buy_base_asset_volume',\\\n",
    "                                  'Taker_buy_quote_asset_volume', 'Ignore'],inplace=True)\n",
    "    df['Human_open_time']=df.Open_time.map(lambda x: datetime.utcfromtimestamp(x/1000).\\\n",
    "                                           strftime('%Y-%m-%d %H:%M:%S') )\n",
    "    df['date']=df.Human_open_time.astype('datetime64[D]')\n",
    "    \n",
    "    df_fin=df.groupby('date').agg({'Open':'first','High':'max','Low':'min','Close':'last'})\n",
    "    df_fin['Close_Rt']=(df_fin.Close.apply(float)/df_fin.Close.shift(1).apply(float)).apply(np.log)*100\n",
    "    df_fin.dropna(inplace=True)\n",
    "    daily_Rt[key]=df_fin['Close_Rt']"
   ]
  },
  {
   "cell_type": "code",
   "execution_count": 21,
   "id": "42ebf54d",
   "metadata": {},
   "outputs": [],
   "source": [
    "#daily_Rt.to_csv('daily_Rt.csv')"
   ]
  },
  {
   "cell_type": "markdown",
   "id": "91526c46",
   "metadata": {},
   "source": [
    "Price trajectories"
   ]
  },
  {
   "cell_type": "code",
   "execution_count": 16,
   "id": "ada04773",
   "metadata": {},
   "outputs": [],
   "source": [
    "all_coins=pd.DataFrame()\n",
    "for key in storage.keys():\n",
    "    arr=storage[key]\n",
    "    df=pd.DataFrame(arr,columns=['Open_time', 'Open', 'High', 'Low', 'Close', 'Volume', 'Close_time',\\\n",
    "                              'Quote_asset_volume', 'Number_of_trades', 'Taker_buy_base_asset_volume',\\\n",
    "                              'Taker_buy_quote_asset_volume', 'Ignore'])\n",
    "    df.drop(columns=['Quote_asset_volume', 'Number_of_trades', 'Taker_buy_base_asset_volume',\\\n",
    "                                  'Taker_buy_quote_asset_volume', 'Ignore'],inplace=True)\n",
    "    df['Human_open_time']=df.Open_time.map(lambda x: datetime.utcfromtimestamp(x/1000).\\\n",
    "                                           strftime('%Y-%m-%d %H:%M:%S') )\n",
    "    df['date']=df.Human_open_time.astype('datetime64[D]')\n",
    "    df_fin=df.groupby('date').agg({'Open':'first','High':'max','Low':'min','Close':'last'})\n",
    "    all_coins[key]=df_fin.Close"
   ]
  },
  {
   "cell_type": "code",
   "execution_count": 38,
   "id": "a471a6ad",
   "metadata": {},
   "outputs": [],
   "source": [
    "all_coins.to_csv('all_coins.csv')"
   ]
  }
 ],
 "metadata": {
  "kernelspec": {
   "display_name": "Python 3 (ipykernel)",
   "language": "python",
   "name": "python3"
  },
  "language_info": {
   "codemirror_mode": {
    "name": "ipython",
    "version": 3
   },
   "file_extension": ".py",
   "mimetype": "text/x-python",
   "name": "python",
   "nbconvert_exporter": "python",
   "pygments_lexer": "ipython3",
   "version": "3.9.12"
  }
 },
 "nbformat": 4,
 "nbformat_minor": 5
}
